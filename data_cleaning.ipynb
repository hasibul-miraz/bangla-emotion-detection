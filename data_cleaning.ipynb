{
 "cells": [
  {
   "cell_type": "markdown",
   "id": "bfe40628",
   "metadata": {},
   "source": [
    "# For Dataset 1"
   ]
  },
  {
   "cell_type": "code",
   "execution_count": 231,
   "id": "0dabedf4",
   "metadata": {},
   "outputs": [],
   "source": [
    "import pandas as pd"
   ]
  },
  {
   "cell_type": "code",
   "execution_count": 232,
   "id": "bdf78b60",
   "metadata": {},
   "outputs": [
    {
     "name": "stdout",
     "output_type": "stream",
     "text": [
      "total len : 5160\n",
      "3096\n",
      "1032\n",
      "1032\n",
      "total = 5160\n"
     ]
    }
   ],
   "source": [
    "df1 = pd.read_excel(\"data/DS1.xlsx\")\n",
    "print(f\"total len : {len(df1)}\")\n",
    "\n",
    "train_len = int(.6*(len(df1)))\n",
    "test_len = int(.2*(len(df1)))\n",
    "validation_len = int(.2*(len(df1)))\n",
    "\n",
    "print(train_len)\n",
    "print(test_len)\n",
    "print(validation_len)\n",
    "print(f\"total = {train_len + test_len + validation_len}\")"
   ]
  },
  {
   "cell_type": "code",
   "execution_count": 233,
   "id": "a6adb6b7",
   "metadata": {},
   "outputs": [
    {
     "name": "stdout",
     "output_type": "stream",
     "text": [
      "taining=3096, testing=1032, validation=1032\n",
      "emotion\n",
      "angry      [আরো ভাল করে সাইজ করা দরকার, সালা নেংটা পুজা ক...\n",
      "disgust    [বাংলাদেশে মুসলমান যে দেশে যাবে বা দুকবে সে দে...\n",
      "fear       [হাইরে মূর্খ বাঙালি। ডিজিটাল শব্দের অর্থ না বু...\n",
      "happy      [অপরাদি যে হোক, যে কোন বয়সের হোক না কেন, বিচার...\n",
      "sad        [হিন্দু গো অনুভুতি শক্তি হারিয়ে গেছে। এখন শুধু...\n",
      "Name: text, dtype: object\n",
      "emotion\n",
      "angry      [অমানুষের বাচ্ছা গুলু কে চাকরি নট করে দেন,,কি ...\n",
      "disgust    [যারা সাংবাদিকতা করেন তাদের বয়স ৮০বছর হলে তারা...\n",
      "fear       [এদেশে শরকার। শুদুনিজেদে টা বোজে, যুক্তরাষ্ট্র...\n",
      "happy      [কোরিয়ার ইনছন এয়ারপোর্টের মত শাহজালাল এয়ারপোর্...\n",
      "sad        [ভাই এতদিন আপনার সবকিছুই সাপোর্ট করে গেছি কিন্...\n",
      "Name: text, dtype: object\n",
      "emotion\n",
      "angry      [এটা অন্যায়। মানিনা এই বিচার। 😐। আগের ঘড়ি, ট...\n",
      "disgust    [রাজাকার এভরিহোয়্যার, আপনার কেন মনে হচ্ছে,অপহর...\n",
      "fear       [এক দিন হলেও বিচার হবে শুধু অপেক্ষা মাত্র।, ভা...\n",
      "happy      [ইমরান ভাই আপনের মত যদি সবাই চিন্তা করত তাইলে ...\n",
      "sad        [এই সব মূর্খ পাপীদের তুমি হেদায়েত করো আল্লাহ।এ...\n",
      "Name: text, dtype: object\n"
     ]
    }
   ],
   "source": [
    "training_set = df1.sample(frac = .6)\n",
    "testing_set = df1.sample(frac = .2)\n",
    "validation_set = df1.sample(frac = .2)\n",
    "\n",
    "print(f\"taining={len(training_set)}, testing={len(testing_set)}, validation={len(validation_set)}\")\n",
    "\n",
    "print(training_set.groupby(\"emotion\")[\"text\"].apply(list))\n",
    "print(testing_set.groupby(\"emotion\")[\"text\"].apply(list))\n",
    "print(validation_set.groupby(\"emotion\")[\"text\"].apply(list))"
   ]
  },
  {
   "cell_type": "code",
   "execution_count": 234,
   "id": "a6b83510",
   "metadata": {},
   "outputs": [
    {
     "name": "stdout",
     "output_type": "stream",
     "text": [
      "{'train': {'happy': 1086, 'sad': 721, 'angry': 720, 'disgust': 357, 'fear': 212}, 'test': {'happy': 351, 'sad': 224, 'angry': 269, 'disgust': 112, 'fear': 76}, 'validation': {'happy': 339, 'sad': 260, 'angry': 231, 'disgust': 120, 'fear': 82}}\n",
      "3096,1032,1032\n",
      "training: 3096, testing: 1032, validation: 1032\n"
     ]
    }
   ],
   "source": [
    "training_list = training_set.values.tolist()\n",
    "testing_list = testing_set.values.tolist()\n",
    "validation_list = validation_set.values.tolist()\n",
    "data = {\n",
    "    \"train\":{\n",
    "        \"happy\":0,\n",
    "        \"sad\":0,\n",
    "        \"angry\":0,\n",
    "        \"disgust\":0,\n",
    "        \"fear\":0\n",
    "        },\n",
    "    \"test\":{\n",
    "        \"happy\":0,\n",
    "        \"sad\":0,\n",
    "        \"angry\":0,\n",
    "        \"disgust\":0,\n",
    "        \"fear\":0\n",
    "        },\n",
    "    \"validation\":{\n",
    "        \"happy\":0,\n",
    "        \"sad\":0,\n",
    "        \"angry\":0,\n",
    "        \"disgust\":0,\n",
    "        \"fear\":0\n",
    "        }\n",
    "    }\n",
    "tr=0\n",
    "ts=0\n",
    "va=0\n",
    "emotions = [\"happy\",\"sad\",\"angry\",\"disgust\",\"fear\"]\n",
    "for train in training_list:\n",
    "    for emotion in emotions:\n",
    "        if train[1]==emotion:\n",
    "            tr+=1\n",
    "            data[\"train\"][emotion]+=1\n",
    "for train in testing_list:\n",
    "    for emotion in emotions:\n",
    "        if train[1]==emotion:\n",
    "            ts+=1\n",
    "            data[\"test\"][emotion]+=1\n",
    "for train in validation_list:\n",
    "    for emotion in emotions:\n",
    "        if train[1]==emotion:\n",
    "            va+=1\n",
    "            data[\"validation\"][emotion]+=1\n",
    "\n",
    "print(data)\n",
    "print(f\"{len(training_list)},{len(testing_list)},{len(validation_list)}\")\n",
    "print(f\"training: {tr}, testing: {ts}, validation: {va}\")"
   ]
  },
  {
   "cell_type": "code",
   "execution_count": 235,
   "id": "eca64b4e",
   "metadata": {},
   "outputs": [],
   "source": [
    "import xlsxwriter\n",
    "\n",
    "wb = xlsxwriter.Workbook(\"data/learning_data/training_DS1.xlsx\")\n",
    "ws = wb.add_worksheet()\n",
    "\n",
    "row = 1\n",
    "ws.write(0,0,\"text\")\n",
    "ws.write(0,1,\"reaction\")\n",
    "\n",
    "for i in training_list:\n",
    "    ws.write(row, 0, i[0])\n",
    "    ws.write(row, 1, i[1])\n",
    "    row+=1\n",
    "\n",
    "wb.close()"
   ]
  },
  {
   "cell_type": "code",
   "execution_count": 236,
   "id": "a43a3348",
   "metadata": {},
   "outputs": [],
   "source": [
    "wb = xlsxwriter.Workbook(\"data/learning_data/testing_DS1.xlsx\")\n",
    "ws = wb.add_worksheet()\n",
    "\n",
    "row = 1\n",
    "ws.write(0,0,\"text\")\n",
    "ws.write(0,1,\"reaction\")\n",
    "\n",
    "for i in testing_list:\n",
    "    ws.write(row, 0, i[0])\n",
    "    ws.write(row, 1, i[1])\n",
    "    row+=1\n",
    "\n",
    "wb.close()"
   ]
  },
  {
   "cell_type": "code",
   "execution_count": 237,
   "id": "7b463ce1",
   "metadata": {},
   "outputs": [],
   "source": [
    "wb = xlsxwriter.Workbook(\"data/learning_data/validation_DS1.xlsx\")\n",
    "ws = wb.add_worksheet()\n",
    "\n",
    "row = 1\n",
    "ws.write(0,0,\"text\")\n",
    "ws.write(0,1,\"reaction\")\n",
    "\n",
    "for i in validation_list:\n",
    "    ws.write(row, 0, i[0])\n",
    "    ws.write(row, 1, i[1])\n",
    "    row+=1\n",
    "\n",
    "wb.close()"
   ]
  },
  {
   "cell_type": "markdown",
   "id": "e613d8d7",
   "metadata": {},
   "source": [
    "# For Dataset 2"
   ]
  },
  {
   "cell_type": "code",
   "execution_count": 238,
   "id": "7f3ce193",
   "metadata": {},
   "outputs": [
    {
     "name": "stdout",
     "output_type": "stream",
     "text": [
      "total len : 7000\n",
      "4200\n",
      "1400\n",
      "1400\n",
      "total = 7000\n"
     ]
    }
   ],
   "source": [
    "df2 = pd.read_excel(\"data/DS2.xlsx\")\n",
    "print(f\"total len : {len(df2)}\")\n",
    "\n",
    "train_len2 = int(.6*(len(df2)))\n",
    "test_len2 = int(.2*(len(df2)))\n",
    "validation_len2 = int(.2*(len(df2)))\n",
    "\n",
    "print(train_len2)\n",
    "print(test_len2)\n",
    "print(validation_len2)\n",
    "print(f\"total = {train_len2 + test_len2 + validation_len2}\")"
   ]
  },
  {
   "cell_type": "code",
   "execution_count": 239,
   "id": "1f48fdef",
   "metadata": {},
   "outputs": [
    {
     "name": "stdout",
     "output_type": "stream",
     "text": [
      "taining=4200, testing=1400, validation=1400\n",
      "emotion\n",
      "anger       [এর মাথা পুরোটাই নষ্ট  পশ্চিম বঙ্গবাসী একে ভোট...\n",
      "disgust     [এই বয়সে নাতি নাতনিদের সঙ্গে আনন্দে মেতে থাকার...\n",
      "fear        [মামা ভয়ে ভয়ে লুকিং গ্লাসের কাপড় সরিয়ে দিয...\n",
      "joy         [আপু আপনাকে খুব সুন্দর লাগছে  , রবি আজিয়াটা লি...\n",
      "sadness     [তোমার শহরের কোণে কেউ মায়া জমায় কি  আমি এখনো ভ...\n",
      "surprise    [মা র হাতের ফাঁক দিয়ে আমার চোখ যখন দরজার কাছে ...\n",
      "Name: text, dtype: object\n",
      "emotion\n",
      "anger       [মেয়েটা সত্যি হারামি  একটা কথা ও নম্রতার সংঙ্গ...\n",
      "disgust     [এরই মধ্যে আবার মেয়র সাহেব বললেন  ডেঙ্গুতে মান...\n",
      "fear        [আমি বয়স্ক ছিলাম আমি একাকী সময় কাটাতে পারার ...\n",
      "joy         [রিমঝিম এই বৃষ্টিতে  ঈদ কাটাবো সৃষ্টিতে   খুশি...\n",
      "sadness     [আবার যখন ঐ দুধের বাচ্চারা আপেল কাটার ছুরি দিয়...\n",
      "surprise    [এত নিপুণ ভাবে প্রতিটা দৃশ্য সৃষ্টি করেও তিনি ...\n",
      "Name: text, dtype: object\n",
      "emotion\n",
      "anger       [অতিরিক্ত রাগ উঠে গেলে শুয়ে পরা উচিত  প্রচন্ড ...\n",
      "disgust     [এই দুঃসময়ে কারা এত অমানবিক হইতে পারে ভাই এইটা...\n",
      "fear        [সকাল থেকে আপনজন হারানোর কষ্ট চেপে বসেছে বুকে ...\n",
      "joy         [তোর জন্য ভালবাসা  লক্ষ্য গোলাপ জুই  হাজার লোক...\n",
      "sadness     [কোডিং  ডেভেলপিং করতে পারিনাই  ফটোগ্রাফি  ডান্...\n",
      "surprise    [আমি চমকে উঠে ওর হাত ছেড়ে দিলাম সে মনে হয় আমার...\n",
      "Name: text, dtype: object\n"
     ]
    }
   ],
   "source": [
    "training_set2 = df2.sample(frac = .6)\n",
    "testing_set2 = df2.sample(frac = .2)\n",
    "validation_set2 = df2.sample(frac = .2)\n",
    "\n",
    "print(f\"taining={len(training_set2)}, testing={len(testing_set2)}, validation={len(validation_set2)}\")\n",
    "\n",
    "print(training_set2.groupby(\"emotion\")[\"text\"].apply(list))\n",
    "print(testing_set2.groupby(\"emotion\")[\"text\"].apply(list))\n",
    "print(validation_set2.groupby(\"emotion\")[\"text\"].apply(list))"
   ]
  },
  {
   "cell_type": "code",
   "execution_count": 240,
   "id": "ec49a2a7",
   "metadata": {},
   "outputs": [
    {
     "name": "stdout",
     "output_type": "stream",
     "text": [
      "{'train': {'happy': 883, 'sad': 810, 'angry': 629, 'disgust': 799, 'surprise': 0, 'fear': 599}, 'test': {'happy': 311, 'sad': 275, 'angry': 208, 'disgust': 289, 'surprise': 0, 'fear': 182}, 'validation': {'happy': 311, 'sad': 259, 'angry': 224, 'disgust': 258, 'surprise': 0, 'fear': 200}}\n",
      "4200,1400,1400\n",
      "training: 3720, testing: 1265, validation: 1252\n"
     ]
    }
   ],
   "source": [
    "training_list2 = training_set2.values.tolist()\n",
    "testing_list2 = testing_set2.values.tolist()\n",
    "validation_list2 = validation_set2.values.tolist()\n",
    "\n",
    "train_sur = 0\n",
    "test_sur = 0\n",
    "valid_sur = 0\n",
    "\n",
    "new_training = []\n",
    "new_testing = []\n",
    "new_validation = []\n",
    "\n",
    "for i in training_list2:\n",
    "    if \"surprise\" in i[1]:\n",
    "        continue\n",
    "    elif \"joy\" in i[1]:\n",
    "        new_training.append([i[0],\"happy\"])\n",
    "    elif \"sadness\" in i[1]:\n",
    "        new_training.append([i[0],\"sad\"])\n",
    "    elif \"anger\" in i[1]:\n",
    "        new_training.append([i[0],\"angry\"])\n",
    "    else:\n",
    "        new_training.append(i)\n",
    "        \n",
    "for i in testing_list2:\n",
    "    if \"surprise\" in i[1]:\n",
    "        continue\n",
    "    elif \"joy\" in i[1]:\n",
    "        new_testing.append([i[0],\"happy\"])\n",
    "    elif \"sadness\" in i[1]:\n",
    "        new_testing.append([i[0],\"sad\"])\n",
    "    elif \"anger\" in i[1]:\n",
    "        new_testing.append([i[0],\"angry\"])\n",
    "    else:\n",
    "        new_testing.append(i)\n",
    "\n",
    "for i in validation_list2:\n",
    "    if \"surprise\" in i[1]:\n",
    "        continue\n",
    "    elif \"joy\" in i[1]:\n",
    "        new_validation.append([i[0],\"happy\"])\n",
    "    elif \"sadness\" in i[1]:\n",
    "        new_validation.append([i[0],\"sad\"])\n",
    "    elif \"anger\" in i[1]:\n",
    "        new_validation.append([i[0],\"angry\"])\n",
    "    else:\n",
    "        new_validation.append(i)\n",
    "        \n",
    "data2 = {\n",
    "    \"train\":{\n",
    "        \"happy\":0,\n",
    "        \"sad\":0,\n",
    "        \"angry\":0,\n",
    "        \"disgust\":0,\n",
    "        \"surprise\":0,\n",
    "        \"fear\":0\n",
    "        },\n",
    "    \"test\":{\n",
    "        \"happy\":0,\n",
    "        \"sad\":0,\n",
    "        \"angry\":0,\n",
    "        \"disgust\":0,\n",
    "        \"surprise\":0,\n",
    "        \"fear\":0\n",
    "        },\n",
    "    \"validation\":{\n",
    "        \"happy\":0,\n",
    "        \"sad\":0,\n",
    "        \"angry\":0,\n",
    "        \"disgust\":0,\n",
    "        \"surprise\":0,\n",
    "        \"fear\":0\n",
    "        }\n",
    "    }\n",
    "tr2=0\n",
    "ts2=0\n",
    "va2=0\n",
    "emotions2 = [\"happy\",\"sad\",\"angry\",\"disgust\",\"surprise\",\"fear\"]\n",
    "for train in new_training:\n",
    "    for emotion in emotions2:\n",
    "        if emotion in train[1]:\n",
    "            tr2+=1\n",
    "            data2[\"train\"][emotion]+=1\n",
    "for train in new_testing:\n",
    "    for emotion in emotions2:\n",
    "        if emotion in train[1]:\n",
    "            ts2+=1\n",
    "            data2[\"test\"][emotion]+=1\n",
    "for train in new_validation:\n",
    "    for emotion in emotions2:\n",
    "        if emotion in train[1]:\n",
    "            va2+=1\n",
    "            data2[\"validation\"][emotion]+=1\n",
    "\n",
    "print(data2)\n",
    "print(f\"{len(training_list2)},{len(testing_list2)},{len(validation_list2)}\")\n",
    "print(f\"training: {tr2}, testing: {ts2}, validation: {va2}\")"
   ]
  },
  {
   "cell_type": "code",
   "execution_count": 241,
   "id": "39002dca",
   "metadata": {},
   "outputs": [],
   "source": [
    "import xlsxwriter\n",
    "\n",
    "wb = xlsxwriter.Workbook(\"data/learning_data/training_DS2.xlsx\")\n",
    "ws = wb.add_worksheet()\n",
    "\n",
    "row = 1\n",
    "ws.write(0,0,\"text\")\n",
    "ws.write(0,1,\"reaction\")\n",
    "\n",
    "for i in new_training:\n",
    "    ws.write(row, 0, i[0])\n",
    "    ws.write(row, 1, i[1])\n",
    "    row+=1\n",
    "\n",
    "wb.close()"
   ]
  },
  {
   "cell_type": "code",
   "execution_count": 242,
   "id": "208feee7",
   "metadata": {},
   "outputs": [
    {
     "name": "stdout",
     "output_type": "stream",
     "text": [
      "1032\n"
     ]
    }
   ],
   "source": [
    "wb = xlsxwriter.Workbook(\"data/learning_data/testing_DS2.xlsx\")\n",
    "ws = wb.add_worksheet()\n",
    "\n",
    "row = 1\n",
    "ws.write(0,0,\"text\")\n",
    "ws.write(0,1,\"reaction\")\n",
    "print(len(testing_list))\n",
    "for i in new_testing:\n",
    "    ws.write(row, 0, i[0])\n",
    "    ws.write(row, 1, i[1])\n",
    "    row+=1\n",
    "\n",
    "wb.close()"
   ]
  },
  {
   "cell_type": "code",
   "execution_count": 243,
   "id": "d6b20a49",
   "metadata": {},
   "outputs": [],
   "source": [
    "wb = xlsxwriter.Workbook(\"data/learning_data/validation_DS2.xlsx\")\n",
    "ws = wb.add_worksheet()\n",
    "\n",
    "row = 1\n",
    "ws.write(0,0,\"text\")\n",
    "ws.write(0,1,\"reaction\")\n",
    "\n",
    "for i in new_validation:\n",
    "    ws.write(row, 0, i[0])\n",
    "    ws.write(row, 1, i[1])\n",
    "    row+=1\n",
    "\n",
    "wb.close()"
   ]
  },
  {
   "cell_type": "code",
   "execution_count": null,
   "id": "3766c1c2",
   "metadata": {},
   "outputs": [],
   "source": []
  }
 ],
 "metadata": {
  "kernelspec": {
   "display_name": "Python 3 (ipykernel)",
   "language": "python",
   "name": "python3"
  },
  "language_info": {
   "codemirror_mode": {
    "name": "ipython",
    "version": 3
   },
   "file_extension": ".py",
   "mimetype": "text/x-python",
   "name": "python",
   "nbconvert_exporter": "python",
   "pygments_lexer": "ipython3",
   "version": "3.9.7"
  }
 },
 "nbformat": 4,
 "nbformat_minor": 5
}
